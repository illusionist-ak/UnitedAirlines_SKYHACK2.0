{
  "nbformat": 4,
  "nbformat_minor": 0,
  "metadata": {
    "colab": {
      "provenance": [],
      "collapsed_sections": [
        "3-FgJE51Ol2k",
        "0QYnDZhrUp7t",
        "s5E3TjiOOHVk",
        "0z4ErGl7NBAu",
        "vOa4P2IPNIoM",
        "S7SuhcwnZc2Q"
      ]
    },
    "kernelspec": {
      "name": "python3",
      "display_name": "Python 3"
    },
    "language_info": {
      "name": "python"
    }
  },
  "cells": [
    {
      "cell_type": "code",
      "source": [
        "import pandas as pd"
      ],
      "metadata": {
        "id": "12PI5ww1Bb9C"
      },
      "execution_count": null,
      "outputs": []
    },
    {
      "cell_type": "code",
      "source": [
        "calls = pd.read_csv('calls.csv')"
      ],
      "metadata": {
        "id": "eQ8PFjlcBvPv"
      },
      "execution_count": null,
      "outputs": []
    },
    {
      "cell_type": "code",
      "source": [
        "calls.head()"
      ],
      "metadata": {
        "colab": {
          "base_uri": "https://localhost:8080/",
          "height": 206
        },
        "id": "kujyB7HSDorZ",
        "outputId": "0e34515a-6c5f-44e7-ba80-1d20577c0b25"
      },
      "execution_count": null,
      "outputs": [
        {
          "output_type": "execute_result",
          "data": {
            "text/plain": [
              "      call_id  customer_id  agent_id call_start_datetime  \\\n",
              "0  4667960400   2033123310    963118     7/31/2024 23:56   \n",
              "1  1122072124   8186702651    519057       8/1/2024 0:03   \n",
              "2  6834291559   2416856629    158319     7/31/2024 23:59   \n",
              "3  2266439882   1154544516    488324       8/1/2024 0:05   \n",
              "4  1211603231   5214456437    721730       8/1/2024 0:04   \n",
              "\n",
              "  agent_assigned_datetime call_end_datetime  \\\n",
              "0           8/1/2024 0:03     8/1/2024 0:34   \n",
              "1           8/1/2024 0:06     8/1/2024 0:18   \n",
              "2           8/1/2024 0:07     8/1/2024 0:26   \n",
              "3           8/1/2024 0:10     8/1/2024 0:17   \n",
              "4           8/1/2024 0:14     8/1/2024 0:23   \n",
              "\n",
              "                                     call_transcript  \n",
              "0  \\n\\nAgent: Thank you for calling United Airlin...  \n",
              "1  \\n\\nAgent: Thank you for calling United Airlin...  \n",
              "2  \\n\\nAgent: Thank you for calling United Airlin...  \n",
              "3  \\n\\nAgent: Thank you for calling United Airlin...  \n",
              "4  \\n\\nAgent: Thank you for calling United Airlin...  "
            ],
            "text/html": [
              "\n",
              "  <div id=\"df-c3b9a0ba-b516-4095-b3ae-ba1992ac400e\" class=\"colab-df-container\">\n",
              "    <div>\n",
              "<style scoped>\n",
              "    .dataframe tbody tr th:only-of-type {\n",
              "        vertical-align: middle;\n",
              "    }\n",
              "\n",
              "    .dataframe tbody tr th {\n",
              "        vertical-align: top;\n",
              "    }\n",
              "\n",
              "    .dataframe thead th {\n",
              "        text-align: right;\n",
              "    }\n",
              "</style>\n",
              "<table border=\"1\" class=\"dataframe\">\n",
              "  <thead>\n",
              "    <tr style=\"text-align: right;\">\n",
              "      <th></th>\n",
              "      <th>call_id</th>\n",
              "      <th>customer_id</th>\n",
              "      <th>agent_id</th>\n",
              "      <th>call_start_datetime</th>\n",
              "      <th>agent_assigned_datetime</th>\n",
              "      <th>call_end_datetime</th>\n",
              "      <th>call_transcript</th>\n",
              "    </tr>\n",
              "  </thead>\n",
              "  <tbody>\n",
              "    <tr>\n",
              "      <th>0</th>\n",
              "      <td>4667960400</td>\n",
              "      <td>2033123310</td>\n",
              "      <td>963118</td>\n",
              "      <td>7/31/2024 23:56</td>\n",
              "      <td>8/1/2024 0:03</td>\n",
              "      <td>8/1/2024 0:34</td>\n",
              "      <td>\\n\\nAgent: Thank you for calling United Airlin...</td>\n",
              "    </tr>\n",
              "    <tr>\n",
              "      <th>1</th>\n",
              "      <td>1122072124</td>\n",
              "      <td>8186702651</td>\n",
              "      <td>519057</td>\n",
              "      <td>8/1/2024 0:03</td>\n",
              "      <td>8/1/2024 0:06</td>\n",
              "      <td>8/1/2024 0:18</td>\n",
              "      <td>\\n\\nAgent: Thank you for calling United Airlin...</td>\n",
              "    </tr>\n",
              "    <tr>\n",
              "      <th>2</th>\n",
              "      <td>6834291559</td>\n",
              "      <td>2416856629</td>\n",
              "      <td>158319</td>\n",
              "      <td>7/31/2024 23:59</td>\n",
              "      <td>8/1/2024 0:07</td>\n",
              "      <td>8/1/2024 0:26</td>\n",
              "      <td>\\n\\nAgent: Thank you for calling United Airlin...</td>\n",
              "    </tr>\n",
              "    <tr>\n",
              "      <th>3</th>\n",
              "      <td>2266439882</td>\n",
              "      <td>1154544516</td>\n",
              "      <td>488324</td>\n",
              "      <td>8/1/2024 0:05</td>\n",
              "      <td>8/1/2024 0:10</td>\n",
              "      <td>8/1/2024 0:17</td>\n",
              "      <td>\\n\\nAgent: Thank you for calling United Airlin...</td>\n",
              "    </tr>\n",
              "    <tr>\n",
              "      <th>4</th>\n",
              "      <td>1211603231</td>\n",
              "      <td>5214456437</td>\n",
              "      <td>721730</td>\n",
              "      <td>8/1/2024 0:04</td>\n",
              "      <td>8/1/2024 0:14</td>\n",
              "      <td>8/1/2024 0:23</td>\n",
              "      <td>\\n\\nAgent: Thank you for calling United Airlin...</td>\n",
              "    </tr>\n",
              "  </tbody>\n",
              "</table>\n",
              "</div>\n",
              "    <div class=\"colab-df-buttons\">\n",
              "\n",
              "  <div class=\"colab-df-container\">\n",
              "    <button class=\"colab-df-convert\" onclick=\"convertToInteractive('df-c3b9a0ba-b516-4095-b3ae-ba1992ac400e')\"\n",
              "            title=\"Convert this dataframe to an interactive table.\"\n",
              "            style=\"display:none;\">\n",
              "\n",
              "  <svg xmlns=\"http://www.w3.org/2000/svg\" height=\"24px\" viewBox=\"0 -960 960 960\">\n",
              "    <path d=\"M120-120v-720h720v720H120Zm60-500h600v-160H180v160Zm220 220h160v-160H400v160Zm0 220h160v-160H400v160ZM180-400h160v-160H180v160Zm440 0h160v-160H620v160ZM180-180h160v-160H180v160Zm440 0h160v-160H620v160Z\"/>\n",
              "  </svg>\n",
              "    </button>\n",
              "\n",
              "  <style>\n",
              "    .colab-df-container {\n",
              "      display:flex;\n",
              "      gap: 12px;\n",
              "    }\n",
              "\n",
              "    .colab-df-convert {\n",
              "      background-color: #E8F0FE;\n",
              "      border: none;\n",
              "      border-radius: 50%;\n",
              "      cursor: pointer;\n",
              "      display: none;\n",
              "      fill: #1967D2;\n",
              "      height: 32px;\n",
              "      padding: 0 0 0 0;\n",
              "      width: 32px;\n",
              "    }\n",
              "\n",
              "    .colab-df-convert:hover {\n",
              "      background-color: #E2EBFA;\n",
              "      box-shadow: 0px 1px 2px rgba(60, 64, 67, 0.3), 0px 1px 3px 1px rgba(60, 64, 67, 0.15);\n",
              "      fill: #174EA6;\n",
              "    }\n",
              "\n",
              "    .colab-df-buttons div {\n",
              "      margin-bottom: 4px;\n",
              "    }\n",
              "\n",
              "    [theme=dark] .colab-df-convert {\n",
              "      background-color: #3B4455;\n",
              "      fill: #D2E3FC;\n",
              "    }\n",
              "\n",
              "    [theme=dark] .colab-df-convert:hover {\n",
              "      background-color: #434B5C;\n",
              "      box-shadow: 0px 1px 3px 1px rgba(0, 0, 0, 0.15);\n",
              "      filter: drop-shadow(0px 1px 2px rgba(0, 0, 0, 0.3));\n",
              "      fill: #FFFFFF;\n",
              "    }\n",
              "  </style>\n",
              "\n",
              "    <script>\n",
              "      const buttonEl =\n",
              "        document.querySelector('#df-c3b9a0ba-b516-4095-b3ae-ba1992ac400e button.colab-df-convert');\n",
              "      buttonEl.style.display =\n",
              "        google.colab.kernel.accessAllowed ? 'block' : 'none';\n",
              "\n",
              "      async function convertToInteractive(key) {\n",
              "        const element = document.querySelector('#df-c3b9a0ba-b516-4095-b3ae-ba1992ac400e');\n",
              "        const dataTable =\n",
              "          await google.colab.kernel.invokeFunction('convertToInteractive',\n",
              "                                                    [key], {});\n",
              "        if (!dataTable) return;\n",
              "\n",
              "        const docLinkHtml = 'Like what you see? Visit the ' +\n",
              "          '<a target=\"_blank\" href=https://colab.research.google.com/notebooks/data_table.ipynb>data table notebook</a>'\n",
              "          + ' to learn more about interactive tables.';\n",
              "        element.innerHTML = '';\n",
              "        dataTable['output_type'] = 'display_data';\n",
              "        await google.colab.output.renderOutput(dataTable, element);\n",
              "        const docLink = document.createElement('div');\n",
              "        docLink.innerHTML = docLinkHtml;\n",
              "        element.appendChild(docLink);\n",
              "      }\n",
              "    </script>\n",
              "  </div>\n",
              "\n",
              "\n",
              "<div id=\"df-c4228819-adaf-439b-b575-6d02b6bab2f2\">\n",
              "  <button class=\"colab-df-quickchart\" onclick=\"quickchart('df-c4228819-adaf-439b-b575-6d02b6bab2f2')\"\n",
              "            title=\"Suggest charts\"\n",
              "            style=\"display:none;\">\n",
              "\n",
              "<svg xmlns=\"http://www.w3.org/2000/svg\" height=\"24px\"viewBox=\"0 0 24 24\"\n",
              "     width=\"24px\">\n",
              "    <g>\n",
              "        <path d=\"M19 3H5c-1.1 0-2 .9-2 2v14c0 1.1.9 2 2 2h14c1.1 0 2-.9 2-2V5c0-1.1-.9-2-2-2zM9 17H7v-7h2v7zm4 0h-2V7h2v10zm4 0h-2v-4h2v4z\"/>\n",
              "    </g>\n",
              "</svg>\n",
              "  </button>\n",
              "\n",
              "<style>\n",
              "  .colab-df-quickchart {\n",
              "      --bg-color: #E8F0FE;\n",
              "      --fill-color: #1967D2;\n",
              "      --hover-bg-color: #E2EBFA;\n",
              "      --hover-fill-color: #174EA6;\n",
              "      --disabled-fill-color: #AAA;\n",
              "      --disabled-bg-color: #DDD;\n",
              "  }\n",
              "\n",
              "  [theme=dark] .colab-df-quickchart {\n",
              "      --bg-color: #3B4455;\n",
              "      --fill-color: #D2E3FC;\n",
              "      --hover-bg-color: #434B5C;\n",
              "      --hover-fill-color: #FFFFFF;\n",
              "      --disabled-bg-color: #3B4455;\n",
              "      --disabled-fill-color: #666;\n",
              "  }\n",
              "\n",
              "  .colab-df-quickchart {\n",
              "    background-color: var(--bg-color);\n",
              "    border: none;\n",
              "    border-radius: 50%;\n",
              "    cursor: pointer;\n",
              "    display: none;\n",
              "    fill: var(--fill-color);\n",
              "    height: 32px;\n",
              "    padding: 0;\n",
              "    width: 32px;\n",
              "  }\n",
              "\n",
              "  .colab-df-quickchart:hover {\n",
              "    background-color: var(--hover-bg-color);\n",
              "    box-shadow: 0 1px 2px rgba(60, 64, 67, 0.3), 0 1px 3px 1px rgba(60, 64, 67, 0.15);\n",
              "    fill: var(--button-hover-fill-color);\n",
              "  }\n",
              "\n",
              "  .colab-df-quickchart-complete:disabled,\n",
              "  .colab-df-quickchart-complete:disabled:hover {\n",
              "    background-color: var(--disabled-bg-color);\n",
              "    fill: var(--disabled-fill-color);\n",
              "    box-shadow: none;\n",
              "  }\n",
              "\n",
              "  .colab-df-spinner {\n",
              "    border: 2px solid var(--fill-color);\n",
              "    border-color: transparent;\n",
              "    border-bottom-color: var(--fill-color);\n",
              "    animation:\n",
              "      spin 1s steps(1) infinite;\n",
              "  }\n",
              "\n",
              "  @keyframes spin {\n",
              "    0% {\n",
              "      border-color: transparent;\n",
              "      border-bottom-color: var(--fill-color);\n",
              "      border-left-color: var(--fill-color);\n",
              "    }\n",
              "    20% {\n",
              "      border-color: transparent;\n",
              "      border-left-color: var(--fill-color);\n",
              "      border-top-color: var(--fill-color);\n",
              "    }\n",
              "    30% {\n",
              "      border-color: transparent;\n",
              "      border-left-color: var(--fill-color);\n",
              "      border-top-color: var(--fill-color);\n",
              "      border-right-color: var(--fill-color);\n",
              "    }\n",
              "    40% {\n",
              "      border-color: transparent;\n",
              "      border-right-color: var(--fill-color);\n",
              "      border-top-color: var(--fill-color);\n",
              "    }\n",
              "    60% {\n",
              "      border-color: transparent;\n",
              "      border-right-color: var(--fill-color);\n",
              "    }\n",
              "    80% {\n",
              "      border-color: transparent;\n",
              "      border-right-color: var(--fill-color);\n",
              "      border-bottom-color: var(--fill-color);\n",
              "    }\n",
              "    90% {\n",
              "      border-color: transparent;\n",
              "      border-bottom-color: var(--fill-color);\n",
              "    }\n",
              "  }\n",
              "</style>\n",
              "\n",
              "  <script>\n",
              "    async function quickchart(key) {\n",
              "      const quickchartButtonEl =\n",
              "        document.querySelector('#' + key + ' button');\n",
              "      quickchartButtonEl.disabled = true;  // To prevent multiple clicks.\n",
              "      quickchartButtonEl.classList.add('colab-df-spinner');\n",
              "      try {\n",
              "        const charts = await google.colab.kernel.invokeFunction(\n",
              "            'suggestCharts', [key], {});\n",
              "      } catch (error) {\n",
              "        console.error('Error during call to suggestCharts:', error);\n",
              "      }\n",
              "      quickchartButtonEl.classList.remove('colab-df-spinner');\n",
              "      quickchartButtonEl.classList.add('colab-df-quickchart-complete');\n",
              "    }\n",
              "    (() => {\n",
              "      let quickchartButtonEl =\n",
              "        document.querySelector('#df-c4228819-adaf-439b-b575-6d02b6bab2f2 button');\n",
              "      quickchartButtonEl.style.display =\n",
              "        google.colab.kernel.accessAllowed ? 'block' : 'none';\n",
              "    })();\n",
              "  </script>\n",
              "</div>\n",
              "\n",
              "    </div>\n",
              "  </div>\n"
            ],
            "application/vnd.google.colaboratory.intrinsic+json": {
              "type": "dataframe",
              "variable_name": "calls",
              "summary": "{\n  \"name\": \"calls\",\n  \"rows\": 71810,\n  \"fields\": [\n    {\n      \"column\": \"call_id\",\n      \"properties\": {\n        \"dtype\": \"number\",\n        \"std\": 2889672866,\n        \"min\": 131642,\n        \"max\": 9999806100,\n        \"num_unique_values\": 71810,\n        \"samples\": [\n          30004186,\n          5757780441,\n          8419379158\n        ],\n        \"semantic_type\": \"\",\n        \"description\": \"\"\n      }\n    },\n    {\n      \"column\": \"customer_id\",\n      \"properties\": {\n        \"dtype\": \"number\",\n        \"std\": 2884255247,\n        \"min\": 11978,\n        \"max\": 9999935113,\n        \"num_unique_values\": 71810,\n        \"samples\": [\n          6055513033,\n          122980486,\n          1532314558\n        ],\n        \"semantic_type\": \"\",\n        \"description\": \"\"\n      }\n    },\n    {\n      \"column\": \"agent_id\",\n      \"properties\": {\n        \"dtype\": \"number\",\n        \"std\": 257532,\n        \"min\": 102574,\n        \"max\": 993862,\n        \"num_unique_values\": 383,\n        \"samples\": [\n          461615,\n          524342,\n          901733\n        ],\n        \"semantic_type\": \"\",\n        \"description\": \"\"\n      }\n    },\n    {\n      \"column\": \"call_start_datetime\",\n      \"properties\": {\n        \"dtype\": \"object\",\n        \"num_unique_values\": 27399,\n        \"samples\": [\n          \"8/17/2024 17:43\",\n          \"8/17/2024 13:34\",\n          \"8/25/2024 21:12\"\n        ],\n        \"semantic_type\": \"\",\n        \"description\": \"\"\n      }\n    },\n    {\n      \"column\": \"agent_assigned_datetime\",\n      \"properties\": {\n        \"dtype\": \"object\",\n        \"num_unique_values\": 27267,\n        \"samples\": [\n          \"8/25/2024 11:58\",\n          \"8/9/2024 15:40\",\n          \"8/23/2024 18:21\"\n        ],\n        \"semantic_type\": \"\",\n        \"description\": \"\"\n      }\n    },\n    {\n      \"column\": \"call_end_datetime\",\n      \"properties\": {\n        \"dtype\": \"object\",\n        \"num_unique_values\": 27367,\n        \"samples\": [\n          \"8/1/2024 16:45\",\n          \"8/21/2024 1:02\",\n          \"8/28/2024 1:29\"\n        ],\n        \"semantic_type\": \"\",\n        \"description\": \"\"\n      }\n    },\n    {\n      \"column\": \"call_transcript\",\n      \"properties\": {\n        \"dtype\": \"string\",\n        \"num_unique_values\": 71810,\n        \"samples\": [\n          \"\\n\\nAgent: Thank you for calling United Airlines customer service, this is Mark speaking. How may I help you today?\\n\\nCustomer: Hi Mark, yeah uh I'm calling about a flight I have scheduled next week. The flight number is UA1542 from Chicago to San Francisco.\\n\\nAgent: Okay, let me pull that flight up. *typing noises* Alright, I've got the flight details here. What seems to be the issue you're calling about?\\n\\nCustomer: Well uh, I'm actually gonna have to cancel that flight. Something came up and I won't be able to make the trip after all. So I was hoping to get a refund or maybe change it to a different date.\\n\\nAgent: I understand, things come up. Let me take a look at the refund policy for that route. *more typing* Unfortunately because it's within a week of departure, the ticket is non-refundable. However, we can change the dates for you for a $150 change fee, as long as the new travel is within the next year. Would you like me to go ahead and change the dates for you?\\n\\nCustomer: Umm yeah let me think for a second. *pause* What if I changed it to like next month instead of within a year? Would the fee still be $150 then?\\n\\nAgent: Let me double check the fee for changing it to next month specifically. *typing* It looks like the fee would actually be waived if you changed it to within the next 30 days. So if there's a flight next month that works better for you, I can go ahead and change it at no additional cost. Do you have any dates in mind?\\n\\nCustomer: Okay great, thanks. Let me pull up my calendar real quick... *longer pause with typing/rustling noises* Yeah is there anything available for like the first or second week of November? I'd like to go out there for a work thing if possible. \\n\\nAgent: No problem, take your time looking. *also quietly types for a bit* Alright, for the first week of November I'm seeing availability on November 3rd, leaving Chicago at 11am and getting into San Francisco at 1pm. How does that date work for you?\\n\\nCustomer: Hmm that date could work, let me double check with my coworkers real quick to make sure the timing will line up with our meetings out there... *phone rustling, muffled voices* Yeah that November 3rd flight looks good to me, I'll go ahead and change it to that.\\n\\nAgent: Great, I've gone ahead and processed the change for you. You should see the updated itinerary in your United account within the next 24 hours. Thanks for being so flexible on the dates - I'm happy we could get you rescheduled without any change fees. Please let me know if any other issues come up before your new travel date.\\n\\nCustomer: Okay awesome, thank you so much for your help Mark I really appreciate you changing that for me. Have a good rest of your day!\\n\\nAgent: You're very welcome, glad I could assist. Enjoy your trip to San Francisco! You have a good day as well.\\n\\nCustomer: Thanks, you too! Goodbye.\\n\\nAgent: Goodbye!\\n\\n*call disconnects*\",\n          \"\\n\\nAgent: Thank you for calling United Airlines, my name is Sarah, how may I help you today?\\n\\nCustomer: Hi Sarah, umm I'm calling about a flight I had booked from Chicago to Boston last week. It got delayed by a couple hours and I missed my connecting flight.\\n\\nAgent: I'm sorry to hear about that delay, what are the dates of your travels so I can take a look at your reservation? \\n\\nCustomer: It was last Thursday, May 12th. Flight number was UA1402, it was supposed to leave Chicago at 2pm but ended up leaving around 4pm.\\n\\nAgent: Okay, let me pull up your reservation. *typing sounds* Yep, I see here your flight from Chicago to Boston was delayed due to bad weather in Chicago that day. The flight ended up departing at 4:17pm instead of the scheduled 2pm time. I understand that must have caused you to miss your connecting flight to your final destination. One moment while I take a look at our policies in this situation. *longer pause as agent reviews policies* So based on the delay being due to weather, which is considered a controllable delay by United, you would be eligible for a one-time goodwill gesture from us due to the missed connection. I can offer to refund your ticket for that flight, or apply the amount as a travel credit to use for a future booking. Which option would you prefer?\\n\\nCustomer: Hmm that's really nice of you guys to offer one of those options as a goodwill gesture. I think I'll go with the travel credit if that's ok, I'm sure to fly United again at some point in the next year. It'll be nice to have that credit available. \\n\\nAgent: Absolutely, I've gone ahead and processed a full travel credit for the value of your May 12th ticket. The credit will be valid for one year from today and can be used for future United flights. The reference number for that is CR348921. Please keep that on hand in case you need it when booking your next trip. I'm glad we could resolve this situation to your satisfaction. Thank you for understanding about the weather delay causing your missed connection. Is there anything else I can help with today?\\n\\nCustomer: No, I think that covers it. Thanks so much for your help, Sarah. I appreciate you taking the time to look into this and provide that travel credit. It will definitely be used.\\n\\nAgent: You're very welcome, have a great rest of your day!\\n\\nCustomer: You too, thanks again and bye!\\n\\nAgent: Goodbye!\",\n          \"\\n\\nAgent: Thank you for calling United Airlines, this is Steve how can I help you today?\\n\\nCustomer: Hi Steve, yeah I'm calling because I have a flight booked from Chicago to New York next week and I was hoping to change it. *sigh* This work thing has come up last minute and I need to fly out a day earlier.\\n\\nAgent: I understand, last minute changes can be frustrating. Let me take a look at your booking and see what I can do for you. What's the name the reservation is under?\\n\\nCustomer: It's under John Smith. The original flight was supposed to leave next Thursday.\\n\\nAgent: Okay, let me pull that up... *typing sounds* Alright, I've got your reservation here Mr. Smith. It looks like the flight you booked is pretty full for the day before. Let me check some alternate flight options... *more typing* Hmm, the only option I see is a late afternoon flight that leaves at 4pm, would that work for your schedule?\\n\\nCustomer: Ugh yeah I think that could work, but is it going to cost me a lot more to change it last minute like this? Money is a bit tight with everything going on.\\n\\nAgent: I understand the financial concerns. Unfortunately because it is within 7 days of travel, there would be a change fee applied. The good news is because this flight is still fairly full, the fare difference is only an additional $100 on top of the standard $200 change fee. So your new total would be $300 to switch to that earlier flight. Does that work for your budget?\\n\\nCustomer: *sighs* Yeah I guess $300 is better than having to reschedule the whole work thing. Alright, go ahead and change it for me then.\\n\\nAgent: No problem, I'm happy I could find an option that works. Let me go ahead and process that change for you... *typing sounds* Okay, all set! You're now booked on the 4pm flight next Wednesday. You'll receive an email confirmation shortly. Do you need anything else from me today?\\n\\nCustomer: No, I think that covers it. Thanks so much for your help, Steve. I really appreciate you finding a solution on short notice.\\n\\nAgent: You're very welcome, Mr. Smith. Happy I could assist with the change. Safe travels and enjoy your trip to New York. Have a great rest of your day!\\n\\nCustomer: You too, thanks again! *call disconnects*\\n\\nAgent: *sigh of relief* Next! *keyboard typing, phone ringing in background* Thank you for calling United Airlines, this is Steve how can I help you today?\"\n        ],\n        \"semantic_type\": \"\",\n        \"description\": \"\"\n      }\n    }\n  ]\n}"
            }
          },
          "metadata": {},
          "execution_count": 8
        }
      ]
    },
    {
      "cell_type": "code",
      "source": [
        "reason = pd.read_csv('reason.csv')"
      ],
      "metadata": {
        "id": "qIFc9XNQBe6l"
      },
      "execution_count": null,
      "outputs": []
    },
    {
      "cell_type": "code",
      "source": [
        "test = pd.read_csv('test.csv')"
      ],
      "metadata": {
        "id": "zgx_c6MOBya5"
      },
      "execution_count": null,
      "outputs": []
    },
    {
      "cell_type": "code",
      "source": [
        "import string\n",
        "\n",
        "# Replace slashes with dashes for standardization\n",
        "calls['call_start_datetime'] = calls['call_start_datetime'].str.replace('/', '-')\n",
        "calls['agent_assigned_datetime'] = calls['agent_assigned_datetime'].str.replace('/', '-')\n",
        "calls['call_end_datetime'] = calls['call_end_datetime'].str.replace('/', '-')\n",
        "\n",
        "calls['call_start_datetime'] = pd.to_datetime(calls['call_start_datetime'], errors='coerce')\n",
        "calls['agent_assigned_datetime'] = pd.to_datetime(calls['agent_assigned_datetime'], errors='coerce')\n",
        "calls['call_end_datetime'] = pd.to_datetime(calls['call_end_datetime'], errors='coerce')\n",
        "\n",
        "calls['handle_time'] = calls['call_end_datetime'] - calls['agent_assigned_datetime']\n",
        "calls['waiting_time'] = calls['agent_assigned_datetime'] - calls['call_start_datetime']\n",
        "calls['handle_time'] = calls['handle_time'].dt.total_seconds()\n",
        "calls['waiting_time'] = calls['waiting_time'].dt.total_seconds()"
      ],
      "metadata": {
        "id": "1NQmc23dF6MI",
        "collapsed": true
      },
      "execution_count": null,
      "outputs": []
    },
    {
      "cell_type": "code",
      "source": [
        "calls.head()"
      ],
      "metadata": {
        "colab": {
          "base_uri": "https://localhost:8080/",
          "height": 293
        },
        "id": "hXW2__DdmbFl",
        "outputId": "3589b748-6a2d-4d23-ce95-88a3208384c7"
      },
      "execution_count": null,
      "outputs": [
        {
          "output_type": "execute_result",
          "data": {
            "text/plain": [
              "      call_id  customer_id  agent_id call_start_datetime  \\\n",
              "0  4667960400   2033123310    963118 2024-07-31 23:56:00   \n",
              "1  1122072124   8186702651    519057 2024-08-01 00:03:00   \n",
              "2  6834291559   2416856629    158319 2024-07-31 23:59:00   \n",
              "3  2266439882   1154544516    488324 2024-08-01 00:05:00   \n",
              "4  1211603231   5214456437    721730 2024-08-01 00:04:00   \n",
              "\n",
              "  agent_assigned_datetime   call_end_datetime  \\\n",
              "0     2024-08-01 00:03:00 2024-08-01 00:34:00   \n",
              "1     2024-08-01 00:06:00 2024-08-01 00:18:00   \n",
              "2     2024-08-01 00:07:00 2024-08-01 00:26:00   \n",
              "3     2024-08-01 00:10:00 2024-08-01 00:17:00   \n",
              "4     2024-08-01 00:14:00 2024-08-01 00:23:00   \n",
              "\n",
              "                                     call_transcript  handle_time  \\\n",
              "0  \\n\\nAgent: Thank you for calling United Airlin...       1860.0   \n",
              "1  \\n\\nAgent: Thank you for calling United Airlin...        720.0   \n",
              "2  \\n\\nAgent: Thank you for calling United Airlin...       1140.0   \n",
              "3  \\n\\nAgent: Thank you for calling United Airlin...        420.0   \n",
              "4  \\n\\nAgent: Thank you for calling United Airlin...        540.0   \n",
              "\n",
              "   waiting_time  \n",
              "0         420.0  \n",
              "1         180.0  \n",
              "2         480.0  \n",
              "3         300.0  \n",
              "4         600.0  "
            ],
            "text/html": [
              "\n",
              "  <div id=\"df-f43a6a79-c79a-44e8-b6f6-2fee12d9b59b\" class=\"colab-df-container\">\n",
              "    <div>\n",
              "<style scoped>\n",
              "    .dataframe tbody tr th:only-of-type {\n",
              "        vertical-align: middle;\n",
              "    }\n",
              "\n",
              "    .dataframe tbody tr th {\n",
              "        vertical-align: top;\n",
              "    }\n",
              "\n",
              "    .dataframe thead th {\n",
              "        text-align: right;\n",
              "    }\n",
              "</style>\n",
              "<table border=\"1\" class=\"dataframe\">\n",
              "  <thead>\n",
              "    <tr style=\"text-align: right;\">\n",
              "      <th></th>\n",
              "      <th>call_id</th>\n",
              "      <th>customer_id</th>\n",
              "      <th>agent_id</th>\n",
              "      <th>call_start_datetime</th>\n",
              "      <th>agent_assigned_datetime</th>\n",
              "      <th>call_end_datetime</th>\n",
              "      <th>call_transcript</th>\n",
              "      <th>handle_time</th>\n",
              "      <th>waiting_time</th>\n",
              "    </tr>\n",
              "  </thead>\n",
              "  <tbody>\n",
              "    <tr>\n",
              "      <th>0</th>\n",
              "      <td>4667960400</td>\n",
              "      <td>2033123310</td>\n",
              "      <td>963118</td>\n",
              "      <td>2024-07-31 23:56:00</td>\n",
              "      <td>2024-08-01 00:03:00</td>\n",
              "      <td>2024-08-01 00:34:00</td>\n",
              "      <td>\\n\\nAgent: Thank you for calling United Airlin...</td>\n",
              "      <td>1860.0</td>\n",
              "      <td>420.0</td>\n",
              "    </tr>\n",
              "    <tr>\n",
              "      <th>1</th>\n",
              "      <td>1122072124</td>\n",
              "      <td>8186702651</td>\n",
              "      <td>519057</td>\n",
              "      <td>2024-08-01 00:03:00</td>\n",
              "      <td>2024-08-01 00:06:00</td>\n",
              "      <td>2024-08-01 00:18:00</td>\n",
              "      <td>\\n\\nAgent: Thank you for calling United Airlin...</td>\n",
              "      <td>720.0</td>\n",
              "      <td>180.0</td>\n",
              "    </tr>\n",
              "    <tr>\n",
              "      <th>2</th>\n",
              "      <td>6834291559</td>\n",
              "      <td>2416856629</td>\n",
              "      <td>158319</td>\n",
              "      <td>2024-07-31 23:59:00</td>\n",
              "      <td>2024-08-01 00:07:00</td>\n",
              "      <td>2024-08-01 00:26:00</td>\n",
              "      <td>\\n\\nAgent: Thank you for calling United Airlin...</td>\n",
              "      <td>1140.0</td>\n",
              "      <td>480.0</td>\n",
              "    </tr>\n",
              "    <tr>\n",
              "      <th>3</th>\n",
              "      <td>2266439882</td>\n",
              "      <td>1154544516</td>\n",
              "      <td>488324</td>\n",
              "      <td>2024-08-01 00:05:00</td>\n",
              "      <td>2024-08-01 00:10:00</td>\n",
              "      <td>2024-08-01 00:17:00</td>\n",
              "      <td>\\n\\nAgent: Thank you for calling United Airlin...</td>\n",
              "      <td>420.0</td>\n",
              "      <td>300.0</td>\n",
              "    </tr>\n",
              "    <tr>\n",
              "      <th>4</th>\n",
              "      <td>1211603231</td>\n",
              "      <td>5214456437</td>\n",
              "      <td>721730</td>\n",
              "      <td>2024-08-01 00:04:00</td>\n",
              "      <td>2024-08-01 00:14:00</td>\n",
              "      <td>2024-08-01 00:23:00</td>\n",
              "      <td>\\n\\nAgent: Thank you for calling United Airlin...</td>\n",
              "      <td>540.0</td>\n",
              "      <td>600.0</td>\n",
              "    </tr>\n",
              "  </tbody>\n",
              "</table>\n",
              "</div>\n",
              "    <div class=\"colab-df-buttons\">\n",
              "\n",
              "  <div class=\"colab-df-container\">\n",
              "    <button class=\"colab-df-convert\" onclick=\"convertToInteractive('df-f43a6a79-c79a-44e8-b6f6-2fee12d9b59b')\"\n",
              "            title=\"Convert this dataframe to an interactive table.\"\n",
              "            style=\"display:none;\">\n",
              "\n",
              "  <svg xmlns=\"http://www.w3.org/2000/svg\" height=\"24px\" viewBox=\"0 -960 960 960\">\n",
              "    <path d=\"M120-120v-720h720v720H120Zm60-500h600v-160H180v160Zm220 220h160v-160H400v160Zm0 220h160v-160H400v160ZM180-400h160v-160H180v160Zm440 0h160v-160H620v160ZM180-180h160v-160H180v160Zm440 0h160v-160H620v160Z\"/>\n",
              "  </svg>\n",
              "    </button>\n",
              "\n",
              "  <style>\n",
              "    .colab-df-container {\n",
              "      display:flex;\n",
              "      gap: 12px;\n",
              "    }\n",
              "\n",
              "    .colab-df-convert {\n",
              "      background-color: #E8F0FE;\n",
              "      border: none;\n",
              "      border-radius: 50%;\n",
              "      cursor: pointer;\n",
              "      display: none;\n",
              "      fill: #1967D2;\n",
              "      height: 32px;\n",
              "      padding: 0 0 0 0;\n",
              "      width: 32px;\n",
              "    }\n",
              "\n",
              "    .colab-df-convert:hover {\n",
              "      background-color: #E2EBFA;\n",
              "      box-shadow: 0px 1px 2px rgba(60, 64, 67, 0.3), 0px 1px 3px 1px rgba(60, 64, 67, 0.15);\n",
              "      fill: #174EA6;\n",
              "    }\n",
              "\n",
              "    .colab-df-buttons div {\n",
              "      margin-bottom: 4px;\n",
              "    }\n",
              "\n",
              "    [theme=dark] .colab-df-convert {\n",
              "      background-color: #3B4455;\n",
              "      fill: #D2E3FC;\n",
              "    }\n",
              "\n",
              "    [theme=dark] .colab-df-convert:hover {\n",
              "      background-color: #434B5C;\n",
              "      box-shadow: 0px 1px 3px 1px rgba(0, 0, 0, 0.15);\n",
              "      filter: drop-shadow(0px 1px 2px rgba(0, 0, 0, 0.3));\n",
              "      fill: #FFFFFF;\n",
              "    }\n",
              "  </style>\n",
              "\n",
              "    <script>\n",
              "      const buttonEl =\n",
              "        document.querySelector('#df-f43a6a79-c79a-44e8-b6f6-2fee12d9b59b button.colab-df-convert');\n",
              "      buttonEl.style.display =\n",
              "        google.colab.kernel.accessAllowed ? 'block' : 'none';\n",
              "\n",
              "      async function convertToInteractive(key) {\n",
              "        const element = document.querySelector('#df-f43a6a79-c79a-44e8-b6f6-2fee12d9b59b');\n",
              "        const dataTable =\n",
              "          await google.colab.kernel.invokeFunction('convertToInteractive',\n",
              "                                                    [key], {});\n",
              "        if (!dataTable) return;\n",
              "\n",
              "        const docLinkHtml = 'Like what you see? Visit the ' +\n",
              "          '<a target=\"_blank\" href=https://colab.research.google.com/notebooks/data_table.ipynb>data table notebook</a>'\n",
              "          + ' to learn more about interactive tables.';\n",
              "        element.innerHTML = '';\n",
              "        dataTable['output_type'] = 'display_data';\n",
              "        await google.colab.output.renderOutput(dataTable, element);\n",
              "        const docLink = document.createElement('div');\n",
              "        docLink.innerHTML = docLinkHtml;\n",
              "        element.appendChild(docLink);\n",
              "      }\n",
              "    </script>\n",
              "  </div>\n",
              "\n",
              "\n",
              "<div id=\"df-60970919-92b1-4558-90c6-f4865da0c794\">\n",
              "  <button class=\"colab-df-quickchart\" onclick=\"quickchart('df-60970919-92b1-4558-90c6-f4865da0c794')\"\n",
              "            title=\"Suggest charts\"\n",
              "            style=\"display:none;\">\n",
              "\n",
              "<svg xmlns=\"http://www.w3.org/2000/svg\" height=\"24px\"viewBox=\"0 0 24 24\"\n",
              "     width=\"24px\">\n",
              "    <g>\n",
              "        <path d=\"M19 3H5c-1.1 0-2 .9-2 2v14c0 1.1.9 2 2 2h14c1.1 0 2-.9 2-2V5c0-1.1-.9-2-2-2zM9 17H7v-7h2v7zm4 0h-2V7h2v10zm4 0h-2v-4h2v4z\"/>\n",
              "    </g>\n",
              "</svg>\n",
              "  </button>\n",
              "\n",
              "<style>\n",
              "  .colab-df-quickchart {\n",
              "      --bg-color: #E8F0FE;\n",
              "      --fill-color: #1967D2;\n",
              "      --hover-bg-color: #E2EBFA;\n",
              "      --hover-fill-color: #174EA6;\n",
              "      --disabled-fill-color: #AAA;\n",
              "      --disabled-bg-color: #DDD;\n",
              "  }\n",
              "\n",
              "  [theme=dark] .colab-df-quickchart {\n",
              "      --bg-color: #3B4455;\n",
              "      --fill-color: #D2E3FC;\n",
              "      --hover-bg-color: #434B5C;\n",
              "      --hover-fill-color: #FFFFFF;\n",
              "      --disabled-bg-color: #3B4455;\n",
              "      --disabled-fill-color: #666;\n",
              "  }\n",
              "\n",
              "  .colab-df-quickchart {\n",
              "    background-color: var(--bg-color);\n",
              "    border: none;\n",
              "    border-radius: 50%;\n",
              "    cursor: pointer;\n",
              "    display: none;\n",
              "    fill: var(--fill-color);\n",
              "    height: 32px;\n",
              "    padding: 0;\n",
              "    width: 32px;\n",
              "  }\n",
              "\n",
              "  .colab-df-quickchart:hover {\n",
              "    background-color: var(--hover-bg-color);\n",
              "    box-shadow: 0 1px 2px rgba(60, 64, 67, 0.3), 0 1px 3px 1px rgba(60, 64, 67, 0.15);\n",
              "    fill: var(--button-hover-fill-color);\n",
              "  }\n",
              "\n",
              "  .colab-df-quickchart-complete:disabled,\n",
              "  .colab-df-quickchart-complete:disabled:hover {\n",
              "    background-color: var(--disabled-bg-color);\n",
              "    fill: var(--disabled-fill-color);\n",
              "    box-shadow: none;\n",
              "  }\n",
              "\n",
              "  .colab-df-spinner {\n",
              "    border: 2px solid var(--fill-color);\n",
              "    border-color: transparent;\n",
              "    border-bottom-color: var(--fill-color);\n",
              "    animation:\n",
              "      spin 1s steps(1) infinite;\n",
              "  }\n",
              "\n",
              "  @keyframes spin {\n",
              "    0% {\n",
              "      border-color: transparent;\n",
              "      border-bottom-color: var(--fill-color);\n",
              "      border-left-color: var(--fill-color);\n",
              "    }\n",
              "    20% {\n",
              "      border-color: transparent;\n",
              "      border-left-color: var(--fill-color);\n",
              "      border-top-color: var(--fill-color);\n",
              "    }\n",
              "    30% {\n",
              "      border-color: transparent;\n",
              "      border-left-color: var(--fill-color);\n",
              "      border-top-color: var(--fill-color);\n",
              "      border-right-color: var(--fill-color);\n",
              "    }\n",
              "    40% {\n",
              "      border-color: transparent;\n",
              "      border-right-color: var(--fill-color);\n",
              "      border-top-color: var(--fill-color);\n",
              "    }\n",
              "    60% {\n",
              "      border-color: transparent;\n",
              "      border-right-color: var(--fill-color);\n",
              "    }\n",
              "    80% {\n",
              "      border-color: transparent;\n",
              "      border-right-color: var(--fill-color);\n",
              "      border-bottom-color: var(--fill-color);\n",
              "    }\n",
              "    90% {\n",
              "      border-color: transparent;\n",
              "      border-bottom-color: var(--fill-color);\n",
              "    }\n",
              "  }\n",
              "</style>\n",
              "\n",
              "  <script>\n",
              "    async function quickchart(key) {\n",
              "      const quickchartButtonEl =\n",
              "        document.querySelector('#' + key + ' button');\n",
              "      quickchartButtonEl.disabled = true;  // To prevent multiple clicks.\n",
              "      quickchartButtonEl.classList.add('colab-df-spinner');\n",
              "      try {\n",
              "        const charts = await google.colab.kernel.invokeFunction(\n",
              "            'suggestCharts', [key], {});\n",
              "      } catch (error) {\n",
              "        console.error('Error during call to suggestCharts:', error);\n",
              "      }\n",
              "      quickchartButtonEl.classList.remove('colab-df-spinner');\n",
              "      quickchartButtonEl.classList.add('colab-df-quickchart-complete');\n",
              "    }\n",
              "    (() => {\n",
              "      let quickchartButtonEl =\n",
              "        document.querySelector('#df-60970919-92b1-4558-90c6-f4865da0c794 button');\n",
              "      quickchartButtonEl.style.display =\n",
              "        google.colab.kernel.accessAllowed ? 'block' : 'none';\n",
              "    })();\n",
              "  </script>\n",
              "</div>\n",
              "\n",
              "    </div>\n",
              "  </div>\n"
            ],
            "application/vnd.google.colaboratory.intrinsic+json": {
              "type": "dataframe",
              "variable_name": "calls",
              "summary": "{\n  \"name\": \"calls\",\n  \"rows\": 71810,\n  \"fields\": [\n    {\n      \"column\": \"call_id\",\n      \"properties\": {\n        \"dtype\": \"number\",\n        \"std\": 2889672866,\n        \"min\": 131642,\n        \"max\": 9999806100,\n        \"num_unique_values\": 71810,\n        \"samples\": [\n          30004186,\n          5757780441,\n          8419379158\n        ],\n        \"semantic_type\": \"\",\n        \"description\": \"\"\n      }\n    },\n    {\n      \"column\": \"customer_id\",\n      \"properties\": {\n        \"dtype\": \"number\",\n        \"std\": 2884255247,\n        \"min\": 11978,\n        \"max\": 9999935113,\n        \"num_unique_values\": 71810,\n        \"samples\": [\n          6055513033,\n          122980486,\n          1532314558\n        ],\n        \"semantic_type\": \"\",\n        \"description\": \"\"\n      }\n    },\n    {\n      \"column\": \"agent_id\",\n      \"properties\": {\n        \"dtype\": \"number\",\n        \"std\": 257532,\n        \"min\": 102574,\n        \"max\": 993862,\n        \"num_unique_values\": 383,\n        \"samples\": [\n          461615,\n          524342,\n          901733\n        ],\n        \"semantic_type\": \"\",\n        \"description\": \"\"\n      }\n    },\n    {\n      \"column\": \"call_start_datetime\",\n      \"properties\": {\n        \"dtype\": \"date\",\n        \"min\": \"2024-07-31 23:56:00\",\n        \"max\": \"2024-08-31 23:55:00\",\n        \"num_unique_values\": 27399,\n        \"samples\": [\n          \"2024-08-17 17:43:00\",\n          \"2024-08-17 13:34:00\",\n          \"2024-08-25 21:12:00\"\n        ],\n        \"semantic_type\": \"\",\n        \"description\": \"\"\n      }\n    },\n    {\n      \"column\": \"agent_assigned_datetime\",\n      \"properties\": {\n        \"dtype\": \"date\",\n        \"min\": \"2024-08-01 00:03:00\",\n        \"max\": \"2024-08-31 23:59:00\",\n        \"num_unique_values\": 27267,\n        \"samples\": [\n          \"2024-08-25 11:58:00\",\n          \"2024-08-09 15:40:00\",\n          \"2024-08-23 18:21:00\"\n        ],\n        \"semantic_type\": \"\",\n        \"description\": \"\"\n      }\n    },\n    {\n      \"column\": \"call_end_datetime\",\n      \"properties\": {\n        \"dtype\": \"date\",\n        \"min\": \"2024-08-01 00:17:00\",\n        \"max\": \"2024-09-01 01:33:00\",\n        \"num_unique_values\": 27367,\n        \"samples\": [\n          \"2024-08-01 16:45:00\",\n          \"2024-08-21 01:02:00\",\n          \"2024-08-28 01:29:00\"\n        ],\n        \"semantic_type\": \"\",\n        \"description\": \"\"\n      }\n    },\n    {\n      \"column\": \"call_transcript\",\n      \"properties\": {\n        \"dtype\": \"string\",\n        \"num_unique_values\": 71810,\n        \"samples\": [\n          \"\\n\\nAgent: Thank you for calling United Airlines customer service, this is Mark speaking. How may I help you today?\\n\\nCustomer: Hi Mark, yeah uh I'm calling about a flight I have scheduled next week. The flight number is UA1542 from Chicago to San Francisco.\\n\\nAgent: Okay, let me pull that flight up. *typing noises* Alright, I've got the flight details here. What seems to be the issue you're calling about?\\n\\nCustomer: Well uh, I'm actually gonna have to cancel that flight. Something came up and I won't be able to make the trip after all. So I was hoping to get a refund or maybe change it to a different date.\\n\\nAgent: I understand, things come up. Let me take a look at the refund policy for that route. *more typing* Unfortunately because it's within a week of departure, the ticket is non-refundable. However, we can change the dates for you for a $150 change fee, as long as the new travel is within the next year. Would you like me to go ahead and change the dates for you?\\n\\nCustomer: Umm yeah let me think for a second. *pause* What if I changed it to like next month instead of within a year? Would the fee still be $150 then?\\n\\nAgent: Let me double check the fee for changing it to next month specifically. *typing* It looks like the fee would actually be waived if you changed it to within the next 30 days. So if there's a flight next month that works better for you, I can go ahead and change it at no additional cost. Do you have any dates in mind?\\n\\nCustomer: Okay great, thanks. Let me pull up my calendar real quick... *longer pause with typing/rustling noises* Yeah is there anything available for like the first or second week of November? I'd like to go out there for a work thing if possible. \\n\\nAgent: No problem, take your time looking. *also quietly types for a bit* Alright, for the first week of November I'm seeing availability on November 3rd, leaving Chicago at 11am and getting into San Francisco at 1pm. How does that date work for you?\\n\\nCustomer: Hmm that date could work, let me double check with my coworkers real quick to make sure the timing will line up with our meetings out there... *phone rustling, muffled voices* Yeah that November 3rd flight looks good to me, I'll go ahead and change it to that.\\n\\nAgent: Great, I've gone ahead and processed the change for you. You should see the updated itinerary in your United account within the next 24 hours. Thanks for being so flexible on the dates - I'm happy we could get you rescheduled without any change fees. Please let me know if any other issues come up before your new travel date.\\n\\nCustomer: Okay awesome, thank you so much for your help Mark I really appreciate you changing that for me. Have a good rest of your day!\\n\\nAgent: You're very welcome, glad I could assist. Enjoy your trip to San Francisco! You have a good day as well.\\n\\nCustomer: Thanks, you too! Goodbye.\\n\\nAgent: Goodbye!\\n\\n*call disconnects*\",\n          \"\\n\\nAgent: Thank you for calling United Airlines, my name is Sarah, how may I help you today?\\n\\nCustomer: Hi Sarah, umm I'm calling about a flight I had booked from Chicago to Boston last week. It got delayed by a couple hours and I missed my connecting flight.\\n\\nAgent: I'm sorry to hear about that delay, what are the dates of your travels so I can take a look at your reservation? \\n\\nCustomer: It was last Thursday, May 12th. Flight number was UA1402, it was supposed to leave Chicago at 2pm but ended up leaving around 4pm.\\n\\nAgent: Okay, let me pull up your reservation. *typing sounds* Yep, I see here your flight from Chicago to Boston was delayed due to bad weather in Chicago that day. The flight ended up departing at 4:17pm instead of the scheduled 2pm time. I understand that must have caused you to miss your connecting flight to your final destination. One moment while I take a look at our policies in this situation. *longer pause as agent reviews policies* So based on the delay being due to weather, which is considered a controllable delay by United, you would be eligible for a one-time goodwill gesture from us due to the missed connection. I can offer to refund your ticket for that flight, or apply the amount as a travel credit to use for a future booking. Which option would you prefer?\\n\\nCustomer: Hmm that's really nice of you guys to offer one of those options as a goodwill gesture. I think I'll go with the travel credit if that's ok, I'm sure to fly United again at some point in the next year. It'll be nice to have that credit available. \\n\\nAgent: Absolutely, I've gone ahead and processed a full travel credit for the value of your May 12th ticket. The credit will be valid for one year from today and can be used for future United flights. The reference number for that is CR348921. Please keep that on hand in case you need it when booking your next trip. I'm glad we could resolve this situation to your satisfaction. Thank you for understanding about the weather delay causing your missed connection. Is there anything else I can help with today?\\n\\nCustomer: No, I think that covers it. Thanks so much for your help, Sarah. I appreciate you taking the time to look into this and provide that travel credit. It will definitely be used.\\n\\nAgent: You're very welcome, have a great rest of your day!\\n\\nCustomer: You too, thanks again and bye!\\n\\nAgent: Goodbye!\",\n          \"\\n\\nAgent: Thank you for calling United Airlines, this is Steve how can I help you today?\\n\\nCustomer: Hi Steve, yeah I'm calling because I have a flight booked from Chicago to New York next week and I was hoping to change it. *sigh* This work thing has come up last minute and I need to fly out a day earlier.\\n\\nAgent: I understand, last minute changes can be frustrating. Let me take a look at your booking and see what I can do for you. What's the name the reservation is under?\\n\\nCustomer: It's under John Smith. The original flight was supposed to leave next Thursday.\\n\\nAgent: Okay, let me pull that up... *typing sounds* Alright, I've got your reservation here Mr. Smith. It looks like the flight you booked is pretty full for the day before. Let me check some alternate flight options... *more typing* Hmm, the only option I see is a late afternoon flight that leaves at 4pm, would that work for your schedule?\\n\\nCustomer: Ugh yeah I think that could work, but is it going to cost me a lot more to change it last minute like this? Money is a bit tight with everything going on.\\n\\nAgent: I understand the financial concerns. Unfortunately because it is within 7 days of travel, there would be a change fee applied. The good news is because this flight is still fairly full, the fare difference is only an additional $100 on top of the standard $200 change fee. So your new total would be $300 to switch to that earlier flight. Does that work for your budget?\\n\\nCustomer: *sighs* Yeah I guess $300 is better than having to reschedule the whole work thing. Alright, go ahead and change it for me then.\\n\\nAgent: No problem, I'm happy I could find an option that works. Let me go ahead and process that change for you... *typing sounds* Okay, all set! You're now booked on the 4pm flight next Wednesday. You'll receive an email confirmation shortly. Do you need anything else from me today?\\n\\nCustomer: No, I think that covers it. Thanks so much for your help, Steve. I really appreciate you finding a solution on short notice.\\n\\nAgent: You're very welcome, Mr. Smith. Happy I could assist with the change. Safe travels and enjoy your trip to New York. Have a great rest of your day!\\n\\nCustomer: You too, thanks again! *call disconnects*\\n\\nAgent: *sigh of relief* Next! *keyboard typing, phone ringing in background* Thank you for calling United Airlines, this is Steve how can I help you today?\"\n        ],\n        \"semantic_type\": \"\",\n        \"description\": \"\"\n      }\n    },\n    {\n      \"column\": \"handle_time\",\n      \"properties\": {\n        \"dtype\": \"number\",\n        \"std\": 774.301509250498,\n        \"min\": 0.0,\n        \"max\": 7140.0,\n        \"num_unique_values\": 119,\n        \"samples\": [\n          3180.0,\n          2940.0,\n          540.0\n        ],\n        \"semantic_type\": \"\",\n        \"description\": \"\"\n      }\n    },\n    {\n      \"column\": \"waiting_time\",\n      \"properties\": {\n        \"dtype\": \"number\",\n        \"std\": 151.12977141285202,\n        \"min\": 180.0,\n        \"max\": 900.0,\n        \"num_unique_values\": 13,\n        \"samples\": [\n          900.0,\n          360.0,\n          420.0\n        ],\n        \"semantic_type\": \"\",\n        \"description\": \"\"\n      }\n    }\n  ]\n}"
            }
          },
          "metadata": {},
          "execution_count": 27
        }
      ]
    },
    {
      "cell_type": "code",
      "execution_count": null,
      "metadata": {
        "id": "tkZg0jTU7NrJ"
      },
      "outputs": [],
      "source": [
        "def merge_dataframes(df1, df2, on, how='inner'):\n",
        "    return pd.merge(df1, df2, on=on, how=how)"
      ]
    },
    {
      "cell_type": "code",
      "source": [
        "call_reason = merge_dataframes(calls, reason, on='call_id')"
      ],
      "metadata": {
        "id": "AVtWAAjEJXfH"
      },
      "execution_count": null,
      "outputs": []
    },
    {
      "cell_type": "markdown",
      "source": [
        "Finding list of all unique primary reasons fro which are the generally made."
      ],
      "metadata": {
        "id": "Ak_pqTcyB7IG"
      }
    },
    {
      "cell_type": "code",
      "source": [
        "call_reason['primary_call_reason'].unique()"
      ],
      "metadata": {
        "colab": {
          "base_uri": "https://localhost:8080/"
        },
        "id": "fwnwkKNgB033",
        "outputId": "ec20592c-2d69-4cc7-e090-33944d6b24a7"
      },
      "execution_count": null,
      "outputs": [
        {
          "output_type": "execute_result",
          "data": {
            "text/plain": [
              "array(['Voluntary  Cancel', 'Booking', 'IRROPS', 'Upgrade', 'Seating',\n",
              "       'Mileage   Plus', 'Checkout', 'Voluntary   Change', 'Post Flight',\n",
              "       'Check In', 'Other  Topics', 'Communications', 'Schedule Change',\n",
              "       'Products & Services', 'IRROPS  ', 'Digital   Support',\n",
              "       'Seating  ', 'Disability', 'Unaccompanied Minor', ' Baggage',\n",
              "       'Traveler  Updates', 'Communications  ', 'ETC', 'Upgrade  ',\n",
              "       'Unaccompanied Minor  ', 'Voluntary Change', 'Voluntary Change  ',\n",
              "       'Checkout  ', 'Mileage Plus', 'Mileage Plus  ', 'Booking  ',\n",
              "       'Baggage  ', 'Post-Flight', 'Post-Flight  ', 'Schedule Change  ',\n",
              "       'Baggage', 'Traveler Updates', 'Voluntary Cancel', 'Check-In',\n",
              "       'Products and Services', 'Check-In  ', 'Other Topics',\n",
              "       'Other Topics  ', 'ETC  ', 'Disability  ', 'Digital Support',\n",
              "       'Digital Support  ', 'Voluntary Cancel  ',\n",
              "       'Products and Services  ', 'Traveler Updates  ',\n",
              "       'Traveler   Updates', 'Digital  Support', 'Mileage  Plus',\n",
              "       'Voluntary  Change'], dtype=object)"
            ]
          },
          "metadata": {},
          "execution_count": 53
        }
      ]
    },
    {
      "cell_type": "code",
      "source": [
        "# Clean the 'primary_call_reason' column\n",
        "call_reason['primary_call_reason'] = (\n",
        "    call_reason['primary_call_reason']\n",
        "    .str.strip()  # Remove leading and trailing spaces\n",
        "    .str.replace(r'\\s+', ' ', regex=True))  # Replace multiple spaces with a single space"
      ],
      "metadata": {
        "id": "ZUuah5oqB5z_"
      },
      "execution_count": null,
      "outputs": []
    },
    {
      "cell_type": "code",
      "source": [
        "call_reason['primary_call_reason'].unique()"
      ],
      "metadata": {
        "colab": {
          "base_uri": "https://localhost:8080/"
        },
        "id": "nXsTKnm9D0jR",
        "outputId": "d4e70a6c-bbed-463d-f8d5-590d9f303383"
      },
      "execution_count": null,
      "outputs": [
        {
          "output_type": "execute_result",
          "data": {
            "text/plain": [
              "array(['Voluntary Cancel', 'Booking', 'IRROPS', 'Upgrade', 'Seating',\n",
              "       'Mileage Plus', 'Checkout', 'Voluntary Change', 'Post Flight',\n",
              "       'Check In', 'Other Topics', 'Communications', 'Schedule Change',\n",
              "       'Products & Services', 'Digital Support', 'Disability',\n",
              "       'Unaccompanied Minor', 'Baggage', 'Traveler Updates', 'ETC',\n",
              "       'Post-Flight', 'Check-In', 'Products and Services'], dtype=object)"
            ]
          },
          "metadata": {},
          "execution_count": 55
        }
      ]
    },
    {
      "cell_type": "code",
      "source": [
        "call_reason['primary_call_reason'] = call_reason['primary_call_reason'].str.replace('Post-Flight', 'Post Flight')\n",
        "call_reason['primary_call_reason'] = call_reason['primary_call_reason'].str.replace('Products & Services', 'Products and Services')\n",
        "call_reason['primary_call_reason'] = call_reason['primary_call_reason'].str.replace('Check-In', 'Checkin')\n",
        "call_reason['primary_call_reason'] = call_reason['primary_call_reason'].str.replace('Check In', 'Checkin')\n",
        "call_reason['primary_call_reason'] = call_reason['primary_call_reason'].str.replace('ETC', 'Other Topics')\n",
        "\n",
        "unique_reasons = call_reason['primary_call_reason'].unique()\n",
        "print('There are ', call_reason['primary_call_reason'].nunique(), ' unique reasons for calls which are ', unique_reasons)"
      ],
      "metadata": {
        "colab": {
          "base_uri": "https://localhost:8080/"
        },
        "id": "ZGN93dCwCHn8",
        "outputId": "868c4954-e3e7-45b3-b42f-0957aa2b8c9a"
      },
      "execution_count": null,
      "outputs": [
        {
          "output_type": "stream",
          "name": "stdout",
          "text": [
            "There are  19  unique reasons for calls which are  ['Voluntary Cancel' 'Booking' 'IRROPS' 'Upgrade' 'Seating' 'Mileage Plus'\n",
            " 'Checkout' 'Voluntary Change' 'Post Flight' 'Checkin' 'Other Topics'\n",
            " 'Communications' 'Schedule Change' 'Products and Services'\n",
            " 'Digital Support' 'Disability' 'Unaccompanied Minor' 'Baggage'\n",
            " 'Traveler Updates']\n"
          ]
        }
      ]
    },
    {
      "cell_type": "code",
      "source": [
        "# Define unique reasons for tallying (in lowercase)\n",
        "unique_reasons = ['voluntary cancel', 'booking', 'irrops', 'upgrade', 'seating',\n",
        "                 'mileage plus', 'checkout', 'voluntary change', 'post flight',\n",
        "                 'checkin', 'other topics', 'communications', 'schedule change',\n",
        "                 'products and services', 'digital support', 'disability',\n",
        "                 'unaccompanied minor', 'baggage', 'traveler updates']"
      ],
      "metadata": {
        "id": "1dhhWHVwHt73"
      },
      "execution_count": null,
      "outputs": []
    },
    {
      "cell_type": "code",
      "source": [
        "from sklearn.feature_extraction.text import TfidfVectorizer\n",
        "from sklearn.naive_bayes import MultinomialNB\n",
        "from sklearn.model_selection import train_test_split\n",
        "from sklearn.metrics import accuracy_score\n",
        "import string\n",
        "import pandas as pd\n",
        "\n",
        "\n",
        "def clean_transcript(transcript):\n",
        "    translator = str.maketrans('', '', string.punctuation)\n",
        "    cleaned_transcript = transcript.translate(translator)\n",
        "\n",
        "    cleaned_transcript = cleaned_transcript.lower()\n",
        "    return cleaned_transcript\n",
        "\n",
        "call_reason['call_transcript'] = call_reason['call_transcript'].apply(clean_transcript)\n",
        "call_reason['primary_call_reason'] = call_reason['primary_call_reason'].str.lower()\n",
        "\n",
        "\n",
        "tfidf = TfidfVectorizer(max_features=1000, stop_words='english')\n",
        "X = tfidf.fit_transform(call_reason['call_transcript'])\n",
        "y = call_reason['primary_call_reason']\n",
        "\n",
        "X_train, X_test, y_train, y_test = train_test_split(X, y, test_size=0.3, random_state=42)\n",
        "\n",
        "\n",
        "model = MultinomialNB()\n",
        "model.fit(X_train, y_train)\n",
        "y_pred = model.predict(X_test)\n",
        "\n",
        "accuracy = accuracy_score(y_test, y_pred)\n",
        "print(f\"Accuracy using TF-IDF and Naive Bayes: {accuracy * 100:.2f}%\")\n"
      ],
      "metadata": {
        "colab": {
          "base_uri": "https://localhost:8080/"
        },
        "id": "vQCuljuzPIT8",
        "outputId": "ff574ded-2bb1-4633-a561-de0e4b6bf31d"
      },
      "execution_count": null,
      "outputs": [
        {
          "output_type": "stream",
          "name": "stdout",
          "text": [
            "Accuracy using TF-IDF and Naive Bayes: 20.49%\n"
          ]
        }
      ]
    },
    {
      "cell_type": "code",
      "source": [
        "test_call = merge_dataframes(test, calls[['call_id', 'call_transcript']], on='call_id')\n",
        "test_call['call_transcript'] = test_call['call_transcript'].apply(clean_transcript)\n",
        "\n",
        "X_test_new = tfidf.transform(test_call['call_transcript'])\n",
        "test_call['predicted_reason'] = model.predict(X_test_new)\n",
        "\n",
        "test_call[['call_id', 'predicted_reason']].to_csv('test.csv', index=False)\n",
        "print(\"Predictions have been saved to test.csv.\")"
      ],
      "metadata": {
        "colab": {
          "base_uri": "https://localhost:8080/"
        },
        "id": "_W8M-11KSS7_",
        "outputId": "11911094-63ea-484f-8f98-6345a3c72a83"
      },
      "execution_count": null,
      "outputs": [
        {
          "output_type": "stream",
          "name": "stdout",
          "text": [
            "Predictions have been saved to test.csv.\n"
          ]
        }
      ]
    },
    {
      "cell_type": "code",
      "source": [],
      "metadata": {
        "id": "__NC4jdFVCWH"
      },
      "execution_count": null,
      "outputs": []
    },
    {
      "cell_type": "code",
      "source": [],
      "metadata": {
        "id": "2kicczxoVCTX"
      },
      "execution_count": null,
      "outputs": []
    },
    {
      "cell_type": "markdown",
      "source": [
        "\n",
        "\n",
        "---\n",
        "## Custom model-2.95%\n"
      ],
      "metadata": {
        "id": "3-FgJE51Ol2k"
      }
    },
    {
      "cell_type": "code",
      "source": [
        "# Initialize reason tally dictionary\n",
        "def init_reason_tally():\n",
        "    return {reason: 0 for reason in unique_reasons}"
      ],
      "metadata": {
        "id": "-wyJx0Z0Gqe2"
      },
      "execution_count": null,
      "outputs": []
    },
    {
      "cell_type": "code",
      "source": [
        "# Helper function to clean transcript text\n",
        "\n",
        "import string\n",
        "\n",
        "def clean_transcript(transcript):\n",
        "    # Remove punctuation using string translation\n",
        "    translator = str.maketrans('', '', string.punctuation)\n",
        "    cleaned_transcript = transcript.translate(translator)\n",
        "\n",
        "    # Convert to lowercase for case-insensitive matching\n",
        "    cleaned_transcript = cleaned_transcript.lower()\n",
        "\n",
        "    return cleaned_transcript"
      ],
      "metadata": {
        "id": "i-dzR615Gq6N"
      },
      "execution_count": null,
      "outputs": []
    },
    {
      "cell_type": "code",
      "source": [
        "# Function to process each transcript and find primary reason\n",
        "def primary_reason(transcript):\n",
        "    # Clean transcript to remove punctuation and special characters\n",
        "    cleaned_transcript = clean_transcript(transcript)\n",
        "\n",
        "    # Initialize tally for this transcript\n",
        "    reason_tally = init_reason_tally()\n",
        "\n",
        "    # Split transcript into words (tokenization)\n",
        "    words = cleaned_transcript.split()  # You can replace this with a more robust tokenizer if needed\n",
        "\n",
        "    # Traverse through words in the transcript\n",
        "    i = 0\n",
        "    while i < len(words):\n",
        "        # Check for two-word phrases in reasons\n",
        "        if i + 1 < len(words):\n",
        "            two_word_phrase = words[i] + ' ' + words[i+1]\n",
        "            if two_word_phrase in reason_tally:\n",
        "                reason_tally[two_word_phrase] += 1\n",
        "                i += 2  # Skip next word as it's part of the current phrase\n",
        "                continue\n",
        "\n",
        "        # Check for single word reasons (though most are two-word)\n",
        "        if words[i] in reason_tally:\n",
        "            reason_tally[words[i]] += 1\n",
        "\n",
        "        i += 1\n",
        "\n",
        "    # Find and return the reason with the highest tally\n",
        "    return max(reason_tally, key=reason_tally.get)"
      ],
      "metadata": {
        "id": "sV7koxUaGtm4"
      },
      "execution_count": null,
      "outputs": []
    },
    {
      "cell_type": "code",
      "source": [
        "# Test the function with a sample transcript\n",
        "transcript = \"\"\"\n",
        "\n",
        "Agent: Thank you for calling United Airlines customer service, my name is Sarah how may I help you?\n",
        "\n",
        "Customer: Hi, yeah I'm calling because my flight from Chicago to New York was delayed by over 3 hours! This is ridiculous, I'm missing important meetings because of this.\n",
        "\n",
        "Agent: I'm so sorry to hear about the delay, that's definitely frustrating. Umm, let me pull up your reservation and take a look at what happened. *typing sounds* Okay, it looks like there was severe weather in Chicago that caused multiple flight cancellations and delays across the board for all the airlines. Ahh shoot, yeah your original flight was scheduled to depart at 2pm but didn't actually take off until after 5pm.\n",
        "\n",
        "Customer: Ugh this is such poor planning on United's part, you should have rerouted passengers or put us on other flights that weren't delayed. Now I've wasted a whole day.\n",
        "\n",
        "Agent: I understand your frustration sir, delays are never fun. Let me see what options I have available to help make this up to you. Hmm, it looks like I can get you booked on a flight leaving at 3pm tomorrow that will have you landing in New York by 5pm. I'll waive the change fee and provide you with a travel voucher for $200 to help cover expenses from the missed meetings today. Does that work for your schedule?\n",
        "\n",
        "Customer: I guess that's better than nothing. But you really need to get your act together, this is unacceptable customer service from United. Your delays are costing people time and money.\n",
        "\n",
        "Agent: You're right, we want to do better for our customers. I apologize again for the delay and inconvenience. Thank you for flying with us and I hope the rescheduled flight and travel credit help make up for some of the trouble today. Please feel free to reach back out if you have any other issues. Thanks for your patience and for understanding - I appreciate you taking the time to work through this with me.\n",
        "\n",
        "Customer: Alright fine. This better not happen again next time I fly United.\n",
        "\n",
        "Agent: I'll be sure to note your record so we can try and avoid any repeats going forward. Take care and have a good rest of your day.\n",
        "\n",
        "Customer: Yeah, you too. *hangs up*\n",
        "\n",
        "Agent: Thank you for your call, next caller please. *pretends to answer another call* Hi there, thank you for calling United how can I help?\"\"\"\n",
        "\n",
        "predicted_reason = primary_reason(transcript)\n",
        "print(f\"Predicted primary reason: {predicted_reason}\")\n"
      ],
      "metadata": {
        "colab": {
          "base_uri": "https://localhost:8080/"
        },
        "id": "aY8FNrtOF6WQ",
        "outputId": "6fa91ea1-0937-48c8-bd03-d4df70583b9c"
      },
      "execution_count": null,
      "outputs": [
        {
          "output_type": "stream",
          "name": "stdout",
          "text": [
            "Predicted primary reason: voluntary cancel\n"
          ]
        }
      ]
    },
    {
      "cell_type": "code",
      "source": [
        "#Lowercase the actual reasons from reason.csv\n",
        "call_reason['primary_call_reason'] = call_reason['primary_call_reason'].str.lower()"
      ],
      "metadata": {
        "id": "FJ5gG58tJZ_f"
      },
      "execution_count": null,
      "outputs": []
    },
    {
      "cell_type": "code",
      "source": [
        "#Initialize counters for accuracy calculation\n",
        "correct_predictions = 0\n",
        "total_predictions = len(call_reason)\n",
        "\n",
        "#Run predictions and compare with actual reasons\n",
        "for index, row in call_reason.iterrows():\n",
        "    transcript = row['call_transcript']\n",
        "    actual_reason = row['primary_call_reason']\n",
        "\n",
        "    # Predict reason using your primary_reason function\n",
        "    predicted_reason = primary_reason(transcript)\n",
        "\n",
        "    # Compare predicted reason with actual reason\n",
        "    if predicted_reason == actual_reason:\n",
        "        correct_predictions += 1\n",
        "\n",
        "#Calculate accuracy\n",
        "accuracy = (correct_predictions / total_predictions) * 100\n",
        "print(f\"Accuracy of the model: {accuracy:.2f}%\")\n"
      ],
      "metadata": {
        "colab": {
          "base_uri": "https://localhost:8080/"
        },
        "id": "LYiFygUfF6Tk",
        "outputId": "95e61940-4e8d-462b-c2c2-a0e7075c1657"
      },
      "execution_count": null,
      "outputs": [
        {
          "output_type": "stream",
          "name": "stdout",
          "text": [
            "Accuracy of the model: 2.95%\n"
          ]
        }
      ]
    }
  ]
}